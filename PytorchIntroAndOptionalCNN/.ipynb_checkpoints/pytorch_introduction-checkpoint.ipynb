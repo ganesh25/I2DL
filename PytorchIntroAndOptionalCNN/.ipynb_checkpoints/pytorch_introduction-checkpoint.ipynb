{
 "cells": [
  {
   "cell_type": "markdown",
   "metadata": {
    "colab_type": "text",
    "id": "z9Og8-UOJHKT"
   },
   "source": [
    "(Optional) PyTorch Introduction\n",
    "================\n",
    " \n",
    "<div class=\"alert alert-info\">\n",
    "    <strong>Note:</strong> This exercise is optional and only serves as an introduction and cheatsheet to the general concepts of PyTorch.\n",
    "</div>\n",
    "\n",
    "PyTorch is a scientific computing package for Python:\n",
    "\n",
    "-  Tensor and Neural Network computations (in particular deep learning)\n",
    "-  Research oriented (in comparison to e.g. TensorFlow)\n",
    "-  Dynamic computational graph (in comparison to e.g. TensorFlow)\n",
    "-  “NumPy on the GPU”\n",
    "-  Backend and API heavily inspired by the original Torch written in Lua\n",
    "\n",
    "An in-depth tutorial of the concepts described in this notebook can be found [here](https://github.com/jcjohnson/pytorch-examples).\n",
    "\n",
    "Use the [pytorch website](https://pytorch.org/) and install the newest version."
   ]
  },
  {
   "cell_type": "code",
   "execution_count": 0,
   "metadata": {
    "colab": {
     "base_uri": "https://localhost:8080/",
     "height": 34
    },
    "colab_type": "code",
    "executionInfo": {
     "elapsed": 1561,
     "status": "ok",
     "timestamp": 1562516171311,
     "user": {
      "displayName": "MADHAN R",
      "photoUrl": "https://lh4.googleusercontent.com/-mWzTthe7iNg/AAAAAAAAAAI/AAAAAAAAC2U/TXibL5IJ0ho/s64/photo.jpg",
      "userId": "05574385187242124520"
     },
     "user_tz": -120
    },
    "id": "FkjMF9zNJHKV",
    "outputId": "bbfeee45-32e8-4753-e747-276fff575f89"
   },
   "outputs": [
    {
     "name": "stdout",
     "output_type": "stream",
     "text": [
      "1.1.0\n"
     ]
    }
   ],
   "source": [
    "%matplotlib inline\n",
    "import numpy as np\n",
    "import torch\n",
    "\n",
    "print(torch.__version__)  # This should print 1.0.x"
   ]
  },
  {
   "cell_type": "markdown",
   "metadata": {
    "colab_type": "text",
    "id": "JMaMwumpJHKb"
   },
   "source": [
    "Tensors\n",
    "=====\n",
    "\n",
    "The PyTorch `Tensor` class is very similar to the NumPy `ndarray` class. Their main distinction is the ability of PyTorch Tensors to be used on a GPU which lets them benefit from vastly accelerated and parallelized computations. In order to work with PyTorch it is crucial to understand the basic behavior of its `Tensor` class."
   ]
  },
  {
   "cell_type": "code",
   "execution_count": 0,
   "metadata": {
    "colab": {
     "base_uri": "https://localhost:8080/",
     "height": 122
    },
    "colab_type": "code",
    "executionInfo": {
     "elapsed": 11892,
     "status": "ok",
     "timestamp": 1562516239703,
     "user": {
      "displayName": "MADHAN R",
      "photoUrl": "https://lh4.googleusercontent.com/-mWzTthe7iNg/AAAAAAAAAAI/AAAAAAAAC2U/TXibL5IJ0ho/s64/photo.jpg",
      "userId": "05574385187242124520"
     },
     "user_tz": -120
    },
    "id": "1sqF1UOVJhrp",
    "outputId": "628313a0-3a68-4040-e846-17df503357f3"
   },
   "outputs": [
    {
     "name": "stdout",
     "output_type": "stream",
     "text": [
      "Go to this URL in a browser: https://accounts.google.com/o/oauth2/auth?client_id=947318989803-6bn6qk8qdgf4n4g3pfee6491hc0brc4i.apps.googleusercontent.com&redirect_uri=urn%3Aietf%3Awg%3Aoauth%3A2.0%3Aoob&scope=email%20https%3A%2F%2Fwww.googleapis.com%2Fauth%2Fdocs.test%20https%3A%2F%2Fwww.googleapis.com%2Fauth%2Fdrive%20https%3A%2F%2Fwww.googleapis.com%2Fauth%2Fdrive.photos.readonly%20https%3A%2F%2Fwww.googleapis.com%2Fauth%2Fpeopleapi.readonly&response_type=code\n",
      "\n",
      "Enter your authorization code:\n",
      "··········\n",
      "Mounted at /content/gdrive\n"
     ]
    }
   ],
   "source": [
    "from google.colab import drive\n",
    "drive.mount('/content/gdrive')\n",
    "root_path = 'gdrive/My Drive/I2dl/PytorchIntroAndOptionalCNN'    #project folder directory\n"
   ]
  },
  {
   "cell_type": "code",
   "execution_count": 0,
   "metadata": {
    "colab": {
     "base_uri": "https://localhost:8080/",
     "height": 34
    },
    "colab_type": "code",
    "executionInfo": {
     "elapsed": 618,
     "status": "ok",
     "timestamp": 1562516251543,
     "user": {
      "displayName": "MADHAN R",
      "photoUrl": "https://lh4.googleusercontent.com/-mWzTthe7iNg/AAAAAAAAAAI/AAAAAAAAC2U/TXibL5IJ0ho/s64/photo.jpg",
      "userId": "05574385187242124520"
     },
     "user_tz": -120
    },
    "id": "Mmpa9PGgK-LU",
    "outputId": "447c4772-91c4-4509-b556-a9d5c54e2eb2"
   },
   "outputs": [
    {
     "name": "stdout",
     "output_type": "stream",
     "text": [
      "/content/gdrive/My Drive/I2dl/PytorchIntroAndOptionalCNN\n"
     ]
    }
   ],
   "source": [
    "%cd 'gdrive/My Drive/I2dl/PytorchIntroAndOptionalCNN'"
   ]
  },
  {
   "cell_type": "markdown",
   "metadata": {
    "colab_type": "text",
    "id": "YiwhLXWaJHKc"
   },
   "source": [
    "Let's start with the initialization of a regular `5x3` matrix `Tensor`:"
   ]
  },
  {
   "cell_type": "code",
   "execution_count": 0,
   "metadata": {
    "colab": {
     "base_uri": "https://localhost:8080/",
     "height": 102
    },
    "colab_type": "code",
    "executionInfo": {
     "elapsed": 953,
     "status": "ok",
     "timestamp": 1562516255034,
     "user": {
      "displayName": "MADHAN R",
      "photoUrl": "https://lh4.googleusercontent.com/-mWzTthe7iNg/AAAAAAAAAAI/AAAAAAAAC2U/TXibL5IJ0ho/s64/photo.jpg",
      "userId": "05574385187242124520"
     },
     "user_tz": -120
    },
    "id": "LWPT7G6uJHKe",
    "outputId": "b741aa98-84af-4e0b-8dc2-27810d53aa77"
   },
   "outputs": [
    {
     "name": "stdout",
     "output_type": "stream",
     "text": [
      "tensor([[4.4326e-36, 0.0000e+00, 3.7835e-44],\n",
      "        [0.0000e+00,        nan, 0.0000e+00],\n",
      "        [1.3733e-14, 6.4069e+02, 4.3066e+21],\n",
      "        [1.1824e+22, 4.3066e+21, 6.3828e+28],\n",
      "        [3.8016e-39, 1.7203e-04, 6.8017e-33]])\n"
     ]
    }
   ],
   "source": [
    "x = torch.Tensor(5, 3)\n",
    "print(x)"
   ]
  },
  {
   "cell_type": "markdown",
   "metadata": {
    "colab_type": "text",
    "id": "U4vzgG4tJHKi"
   },
   "source": [
    "The same matrix can be initialized with random entries:\n",
    "\n"
   ]
  },
  {
   "cell_type": "code",
   "execution_count": 0,
   "metadata": {
    "colab": {
     "base_uri": "https://localhost:8080/",
     "height": 102
    },
    "colab_type": "code",
    "executionInfo": {
     "elapsed": 937,
     "status": "ok",
     "timestamp": 1562516259452,
     "user": {
      "displayName": "MADHAN R",
      "photoUrl": "https://lh4.googleusercontent.com/-mWzTthe7iNg/AAAAAAAAAAI/AAAAAAAAC2U/TXibL5IJ0ho/s64/photo.jpg",
      "userId": "05574385187242124520"
     },
     "user_tz": -120
    },
    "id": "Zjaw6crMJHKk",
    "outputId": "41d550c4-8cbb-42d7-d712-71fc510d56ff"
   },
   "outputs": [
    {
     "name": "stdout",
     "output_type": "stream",
     "text": [
      "tensor([[0.1197, 0.4328, 0.3084],\n",
      "        [0.7715, 0.2653, 0.8598],\n",
      "        [0.4943, 0.3426, 0.2213],\n",
      "        [0.6346, 0.8539, 0.3324],\n",
      "        [0.4419, 0.3969, 0.9988]])\n"
     ]
    }
   ],
   "source": [
    "x = torch.rand(5, 3)\n",
    "print(x)"
   ]
  },
  {
   "cell_type": "markdown",
   "metadata": {
    "colab_type": "text",
    "id": "HlPiiRzTJHKo"
   },
   "source": [
    "The size of a `Tensor` can be retrieved with:\n",
    "\n"
   ]
  },
  {
   "cell_type": "code",
   "execution_count": 0,
   "metadata": {
    "colab": {},
    "colab_type": "code",
    "id": "sltKIup8JHKq"
   },
   "outputs": [],
   "source": [
    "print(x.size())"
   ]
  },
  {
   "cell_type": "markdown",
   "metadata": {
    "colab_type": "text",
    "id": "2x2y3sDBJHKu"
   },
   "source": [
    "<div class=\"alert alert-info\">\n",
    "    <h3>Note</h3>\n",
    "    <p>In contrast to a static computational graph of for example Tensorflow the dynamic graph of PyTorch allows to retrieve information such as its size at any time during runtime.</p>\n",
    "</div>\n",
    "\n",
    "Tensor Operations\n",
    "--------\n",
    "\n",
    "There are multiple syntaxes for `Tensor` operations. We illustrate the different options on the example of `Tensor` addition.\n",
    "\n",
    "Regular (NumPy) syntax:\n",
    "\n"
   ]
  },
  {
   "cell_type": "code",
   "execution_count": 0,
   "metadata": {
    "colab": {
     "base_uri": "https://localhost:8080/",
     "height": 102
    },
    "colab_type": "code",
    "executionInfo": {
     "elapsed": 607,
     "status": "ok",
     "timestamp": 1562516265290,
     "user": {
      "displayName": "MADHAN R",
      "photoUrl": "https://lh4.googleusercontent.com/-mWzTthe7iNg/AAAAAAAAAAI/AAAAAAAAC2U/TXibL5IJ0ho/s64/photo.jpg",
      "userId": "05574385187242124520"
     },
     "user_tz": -120
    },
    "id": "H4cGcBOZJHKv",
    "outputId": "84adc744-76d6-4524-f1e3-5e53b77a8e6c"
   },
   "outputs": [
    {
     "name": "stdout",
     "output_type": "stream",
     "text": [
      "tensor([[0.8344, 0.4975, 1.0407],\n",
      "        [0.9647, 0.4755, 1.8072],\n",
      "        [1.2336, 0.8057, 1.1892],\n",
      "        [1.0525, 1.4403, 1.3200],\n",
      "        [1.1503, 0.9941, 1.0090]])\n"
     ]
    }
   ],
   "source": [
    "y = torch.rand(5, 3)\n",
    "print(x + y)"
   ]
  },
  {
   "cell_type": "markdown",
   "metadata": {
    "colab_type": "text",
    "id": "9KA-L6icJHKz"
   },
   "source": [
    "PyTorch syntax:\n",
    "\n"
   ]
  },
  {
   "cell_type": "code",
   "execution_count": 0,
   "metadata": {
    "colab": {},
    "colab_type": "code",
    "id": "N8Jtdw1GJHK1"
   },
   "outputs": [],
   "source": [
    "print(torch.add(x, y))"
   ]
  },
  {
   "cell_type": "markdown",
   "metadata": {
    "colab_type": "text",
    "id": "5h6ddHZcJHK5"
   },
   "source": [
    "PyTorch syntax with specific output variable:\n",
    "\n"
   ]
  },
  {
   "cell_type": "code",
   "execution_count": 0,
   "metadata": {
    "colab": {},
    "colab_type": "code",
    "id": "Lrtf7JkXJHK6"
   },
   "outputs": [],
   "source": [
    "result = torch.Tensor(5, 3)\n",
    "torch.add(x, y, out=result)\n",
    "print(result)\n"
   ]
  },
  {
   "cell_type": "markdown",
   "metadata": {
    "colab_type": "text",
    "id": "m0mpuxDLJHLC"
   },
   "source": [
    "PyTorch syntax for inplace operations:"
   ]
  },
  {
   "cell_type": "code",
   "execution_count": 0,
   "metadata": {
    "colab": {},
    "colab_type": "code",
    "id": "n5x61WcmJHLE"
   },
   "outputs": [],
   "source": [
    "# adds x to y\n",
    "y.add_(x)\n",
    "print(y)"
   ]
  },
  {
   "cell_type": "markdown",
   "metadata": {
    "colab_type": "text",
    "id": "kdSVbIvhJHLJ"
   },
   "source": [
    "<div class=\"alert alert-info\">\n",
    "    <h3>Note</h3>\n",
    "    <p>Any operation that mutates a <code>Tensor</code> in-place is post-fixed with an <code>_</code>.</p>\n",
    "    <p>For example: <code>x.t_()</code> (transposing x), <code>x.copy_(y)</code> (copy y to x).</p>\n",
    "</div>\n",
    "\n",
    "`Tensor` indexing works just like standard NumPy indexing. And since recently PyTorch even supports `Tensor` [broadcasting](https://docs.scipy.org/doc/numpy-1.13.0/user/basics.broadcasting.html)!\n",
    "\n"
   ]
  },
  {
   "cell_type": "code",
   "execution_count": 0,
   "metadata": {
    "colab": {},
    "colab_type": "code",
    "id": "gkVqV0mEJHLL"
   },
   "outputs": [],
   "source": [
    "print(x[:, 0])"
   ]
  },
  {
   "cell_type": "markdown",
   "metadata": {
    "colab_type": "text",
    "id": "1Oz_s2lRJHLP"
   },
   "source": [
    "NumPy: There and back again\n",
    "---------------------------\n",
    "\n",
    "Converting a PyTorch `Tensor` to a NumPy `ndarray` and vice versa is a very simple. The `Tensor` and the `ndarray` will share the location of the underlying memory, and changing one will also change the other.\n",
    "\n",
    "Converting a `Tensor` to a `ndarray` works by simply calling the `Tensor.numpy()` method:"
   ]
  },
  {
   "cell_type": "code",
   "execution_count": 0,
   "metadata": {
    "colab": {},
    "colab_type": "code",
    "id": "2wLWiFgaJHLR"
   },
   "outputs": [],
   "source": [
    "a = torch.ones(5)\n",
    "b = a.numpy()\n",
    "print(a)\n",
    "print(b)"
   ]
  },
  {
   "cell_type": "markdown",
   "metadata": {
    "colab_type": "text",
    "id": "uYN_zpKiJHLU"
   },
   "source": [
    "Changing the `Tensor` effects the `ndarray` as well:"
   ]
  },
  {
   "cell_type": "code",
   "execution_count": 0,
   "metadata": {
    "colab": {},
    "colab_type": "code",
    "id": "gu3Nbjt1JHLV"
   },
   "outputs": [],
   "source": [
    "a.add_(1)\n",
    "print(a)\n",
    "print(b)"
   ]
  },
  {
   "cell_type": "markdown",
   "metadata": {
    "colab_type": "text",
    "id": "b6DEh45dJHLZ"
   },
   "source": [
    "The conversion from a `ndarray` to a `Tensor` is just as simple and holds the same properties:"
   ]
  },
  {
   "cell_type": "code",
   "execution_count": 0,
   "metadata": {
    "colab": {},
    "colab_type": "code",
    "id": "3hz_5DT-JHLa"
   },
   "outputs": [],
   "source": [
    "a = np.ones(5)\n",
    "b = torch.from_numpy(a)\n",
    "np.add(a, 1, out=a)\n",
    "print(a)\n",
    "print(b)"
   ]
  },
  {
   "cell_type": "markdown",
   "metadata": {
    "colab_type": "text",
    "id": "HbpjypcLJHLe"
   },
   "source": [
    "Every `Tensor` allocated on the CPU (except the `torch.CharTensor`) support converting to\n",
    "NumPy and back.\n",
    "\n",
    "Tensors on the GPU\n",
    "------------------\n",
    "\n",
    "PyTorch Tensors can be moved onto a GPU using the ``Tensor.to()`` method. Before converting a GPU `Tensor` to NumPy it has to be moved back to the CPU by calling the ``Tensor.to()`` method again.\n",
    "\n"
   ]
  },
  {
   "cell_type": "code",
   "execution_count": 0,
   "metadata": {
    "colab": {
     "base_uri": "https://localhost:8080/",
     "height": 187
    },
    "colab_type": "code",
    "executionInfo": {
     "elapsed": 6643,
     "status": "ok",
     "timestamp": 1562516277008,
     "user": {
      "displayName": "MADHAN R",
      "photoUrl": "https://lh4.googleusercontent.com/-mWzTthe7iNg/AAAAAAAAAAI/AAAAAAAAC2U/TXibL5IJ0ho/s64/photo.jpg",
      "userId": "05574385187242124520"
     },
     "user_tz": -120
    },
    "id": "nrfH4_ucJHLf",
    "outputId": "ee3b9d97-11fc-40a0-cae3-3e8c7b796e70"
   },
   "outputs": [
    {
     "name": "stdout",
     "output_type": "stream",
     "text": [
      "tensor([[0.8344, 0.4975, 1.0407],\n",
      "        [0.9647, 0.4755, 1.8072],\n",
      "        [1.2336, 0.8057, 1.1892],\n",
      "        [1.0525, 1.4403, 1.3200],\n",
      "        [1.1503, 0.9941, 1.0090]], device='cuda:0')\n",
      "[[0.83439267 0.4974528  1.0407059 ]\n",
      " [0.964748   0.47545105 1.8072023 ]\n",
      " [1.2336162  0.8056755  1.1892244 ]\n",
      " [1.0524898  1.4403157  1.3200108 ]\n",
      " [1.150346   0.9941084  1.0089881 ]]\n"
     ]
    }
   ],
   "source": [
    "# first check if cuda is available\n",
    "device = torch.device(\"cuda:0\" if torch.cuda.is_available() else \"cpu\")\n",
    "if device == torch.device(\"cuda:0\"):\n",
    "    x = x.to(device)\n",
    "    y = y.to(device)\n",
    "    z = x + y\n",
    "    \n",
    "    print(z)\n",
    "    print(z.cpu().detach().numpy())\n",
    "else:\n",
    "    print(\"CUDA not available.\")"
   ]
  },
  {
   "cell_type": "markdown",
   "metadata": {
    "colab_type": "text",
    "id": "lGM1kjsdJHLk"
   },
   "source": [
    "More on PyTorch Tensors\n",
    "-----------------------\n",
    "\n",
    "The documentation of many more `Tensor` operations, including transposing, indexing, slicing, mathematical operations, linear algebra, random numbers can be found [here](http://pytorch.org/docs/torch)."
   ]
  },
  {
   "cell_type": "markdown",
   "metadata": {
    "colab_type": "text",
    "id": "V6Oq8GCQJHLl"
   },
   "source": [
    "\n",
    "Autograd - automatic differentiation\n",
    "===================================\n",
    "\n",
    "Central to all neural networks in PyTorch is the ``autograd`` package. The package provides automatic differentiation for all operations on Tensors. PyTorch is a define-by-run framework, which means that the calculation of gradients ( e.g. during backpropagation) is defined at runtime and can be different at every single iteration.\n",
    "\n",
    "Since pytorch 0.4.0, the Tensor class includes the Variable class, and supports nearly all of its operations. Once a computational graph for a Tensor that requires gradients is executed the ``Tensor.backward()`` method can be used to automatically compute all the gradients.\n",
    "\n",
    "If the ``Tensor`` is not a scalar, the ``backward()`` method requires an additional ``grad_output`` argument which matches the shape of the ``Tensor``. ``grad_output`` is supposed to be the gradient w.r.t the given output. For a scalar ``Tensor`` ``grad_output`` is assumed to be `torch.Tensor([1.0])`.\n",
    "\n",
    "The `autograd` package additionally provides a `Function` class which encodes a complete history of computation. Each `Tensor` with the `required_grad` attribute has a ``Tensor.grad_fn`` attribute which references the ``Function`` (e.g. an operation such as addition) that created the respective ``Tensor`` and thereby determines its gradient. For Tensors that were created by the user and not as a result of an operation the ``grad_fn`` attribute is ``None``.\n",
    "\n",
    "The following simple examples will illustrate the basic concepts of the ``autograd`` package."
   ]
  },
  {
   "cell_type": "code",
   "execution_count": 0,
   "metadata": {
    "colab": {
     "base_uri": "https://localhost:8080/",
     "height": 34
    },
    "colab_type": "code",
    "executionInfo": {
     "elapsed": 603,
     "status": "ok",
     "timestamp": 1562516461966,
     "user": {
      "displayName": "MADHAN R",
      "photoUrl": "https://lh4.googleusercontent.com/-mWzTthe7iNg/AAAAAAAAAAI/AAAAAAAAC2U/TXibL5IJ0ho/s64/photo.jpg",
      "userId": "05574385187242124520"
     },
     "user_tz": -120
    },
    "id": "OrCqvMVdJHLm",
    "outputId": "6c484714-a942-4e44-a689-d0e6b7cedcb3"
   },
   "outputs": [
    {
     "data": {
      "text/plain": [
       "False"
      ]
     },
     "execution_count": 9,
     "metadata": {
      "tags": []
     },
     "output_type": "execute_result"
    }
   ],
   "source": [
    "# In general, tensors don't track gradients\n",
    "x = torch.ones(1)\n",
    "x.requires_grad"
   ]
  },
  {
   "cell_type": "code",
   "execution_count": 0,
   "metadata": {
    "colab": {
     "base_uri": "https://localhost:8080/",
     "height": 34
    },
    "colab_type": "code",
    "executionInfo": {
     "elapsed": 976,
     "status": "ok",
     "timestamp": 1562516477112,
     "user": {
      "displayName": "MADHAN R",
      "photoUrl": "https://lh4.googleusercontent.com/-mWzTthe7iNg/AAAAAAAAAAI/AAAAAAAAC2U/TXibL5IJ0ho/s64/photo.jpg",
      "userId": "05574385187242124520"
     },
     "user_tz": -120
    },
    "id": "8dSH9TMHJHLq",
    "outputId": "e4529a80-2a49-459a-b9b2-c969122ab124"
   },
   "outputs": [
    {
     "name": "stdout",
     "output_type": "stream",
     "text": [
      "Doesn't work...\n"
     ]
    }
   ],
   "source": [
    "# Thus we can't call the backward function on these tensors\n",
    "try:\n",
    "    x.backwards()\n",
    "except AttributeError:\n",
    "    print(\"Doesn't work...\")"
   ]
  },
  {
   "cell_type": "code",
   "execution_count": 0,
   "metadata": {
    "colab": {
     "base_uri": "https://localhost:8080/",
     "height": 51
    },
    "colab_type": "code",
    "executionInfo": {
     "elapsed": 933,
     "status": "ok",
     "timestamp": 1562516494960,
     "user": {
      "displayName": "MADHAN R",
      "photoUrl": "https://lh4.googleusercontent.com/-mWzTthe7iNg/AAAAAAAAAAI/AAAAAAAAC2U/TXibL5IJ0ho/s64/photo.jpg",
      "userId": "05574385187242124520"
     },
     "user_tz": -120
    },
    "id": "3zKTOTTpJHLv",
    "outputId": "9b3aa581-c910-42b6-f2fd-cdbe3579f881"
   },
   "outputs": [
    {
     "name": "stdout",
     "output_type": "stream",
     "text": [
      "tensor([[1., 1.],\n",
      "        [1., 1.]], requires_grad=True)\n"
     ]
    }
   ],
   "source": [
    "# Enable gradient tracking\n",
    "x = torch.ones((2, 2), requires_grad=True)\n",
    "print(x)"
   ]
  },
  {
   "cell_type": "markdown",
   "metadata": {
    "colab_type": "text",
    "id": "dQMexId5JHL2"
   },
   "source": [
    "Apply an operation to the `Tensor`:\n",
    "\n"
   ]
  },
  {
   "cell_type": "code",
   "execution_count": 0,
   "metadata": {
    "colab": {
     "base_uri": "https://localhost:8080/",
     "height": 51
    },
    "colab_type": "code",
    "executionInfo": {
     "elapsed": 555,
     "status": "ok",
     "timestamp": 1562516516894,
     "user": {
      "displayName": "MADHAN R",
      "photoUrl": "https://lh4.googleusercontent.com/-mWzTthe7iNg/AAAAAAAAAAI/AAAAAAAAC2U/TXibL5IJ0ho/s64/photo.jpg",
      "userId": "05574385187242124520"
     },
     "user_tz": -120
    },
    "id": "C0N4O7cpJHL3",
    "outputId": "d7e961df-a46d-4351-a1f1-7934e672d5f8"
   },
   "outputs": [
    {
     "name": "stdout",
     "output_type": "stream",
     "text": [
      "tensor([[3., 3.],\n",
      "        [3., 3.]], grad_fn=<AddBackward0>)\n"
     ]
    }
   ],
   "source": [
    "y = x + 2\n",
    "print(y)"
   ]
  },
  {
   "cell_type": "markdown",
   "metadata": {
    "colab_type": "text",
    "id": "UQ5XAznxJHL7"
   },
   "source": [
    "Since ``y`` was created as a result of an operation it has a ``grad_fn`` attribute (`Function`) unequal to `None`:\n",
    "\n"
   ]
  },
  {
   "cell_type": "code",
   "execution_count": 0,
   "metadata": {
    "colab": {
     "base_uri": "https://localhost:8080/",
     "height": 34
    },
    "colab_type": "code",
    "executionInfo": {
     "elapsed": 965,
     "status": "ok",
     "timestamp": 1562516545086,
     "user": {
      "displayName": "MADHAN R",
      "photoUrl": "https://lh4.googleusercontent.com/-mWzTthe7iNg/AAAAAAAAAAI/AAAAAAAAC2U/TXibL5IJ0ho/s64/photo.jpg",
      "userId": "05574385187242124520"
     },
     "user_tz": -120
    },
    "id": "z5OlT54CJHL8",
    "outputId": "7227a977-6c10-4cdf-9495-21277f98f21a"
   },
   "outputs": [
    {
     "name": "stdout",
     "output_type": "stream",
     "text": [
      "<AddBackward0 object at 0x7f79bbc27400>\n"
     ]
    }
   ],
   "source": [
    "print(y.grad_fn)"
   ]
  },
  {
   "cell_type": "markdown",
   "metadata": {
    "colab_type": "text",
    "id": "VFyz6nP8JHMA"
   },
   "source": [
    "Applying more operations to `y` increases the computational graph:\n",
    "\n"
   ]
  },
  {
   "cell_type": "code",
   "execution_count": 0,
   "metadata": {
    "colab": {
     "base_uri": "https://localhost:8080/",
     "height": 68
    },
    "colab_type": "code",
    "executionInfo": {
     "elapsed": 586,
     "status": "ok",
     "timestamp": 1562516570650,
     "user": {
      "displayName": "MADHAN R",
      "photoUrl": "https://lh4.googleusercontent.com/-mWzTthe7iNg/AAAAAAAAAAI/AAAAAAAAC2U/TXibL5IJ0ho/s64/photo.jpg",
      "userId": "05574385187242124520"
     },
     "user_tz": -120
    },
    "id": "WjbZnJCQJHMB",
    "outputId": "2c445aa8-716b-48c8-c777-e2b7bdfcefcb"
   },
   "outputs": [
    {
     "name": "stdout",
     "output_type": "stream",
     "text": [
      "tensor([[27., 27.],\n",
      "        [27., 27.]], grad_fn=<MulBackward0>)\n",
      "tensor(27., grad_fn=<MeanBackward0>)\n"
     ]
    }
   ],
   "source": [
    "z = y * y * 3\n",
    "out = z.mean()\n",
    "\n",
    "print(z)\n",
    "print(out)"
   ]
  },
  {
   "cell_type": "markdown",
   "metadata": {
    "colab_type": "text",
    "id": "LcAhG9-1JHMI"
   },
   "source": [
    "Gradients\n",
    "---------\n",
    "The gradient w.r.t the input `x` can now be computed (backpropagated) with ``out.backward()``. Remember for a scalar this is equivalent to doing ``out.backward(torch.Tensor([1.0]))``.\n",
    "\n"
   ]
  },
  {
   "cell_type": "code",
   "execution_count": 0,
   "metadata": {
    "colab": {},
    "colab_type": "code",
    "id": "V2IEtkzZJHMJ"
   },
   "outputs": [],
   "source": [
    "out.backward()"
   ]
  },
  {
   "cell_type": "markdown",
   "metadata": {
    "colab_type": "text",
    "id": "6SpARC4iJHMN"
   },
   "source": [
    "The input `x` was a `2x2` `Tensor` and therefore $\\frac{d(out)}{dx}$ yields a matrix with the same shape:\n",
    "\n"
   ]
  },
  {
   "cell_type": "code",
   "execution_count": 0,
   "metadata": {
    "colab": {
     "base_uri": "https://localhost:8080/",
     "height": 51
    },
    "colab_type": "code",
    "executionInfo": {
     "elapsed": 885,
     "status": "ok",
     "timestamp": 1562516687581,
     "user": {
      "displayName": "MADHAN R",
      "photoUrl": "https://lh4.googleusercontent.com/-mWzTthe7iNg/AAAAAAAAAAI/AAAAAAAAC2U/TXibL5IJ0ho/s64/photo.jpg",
      "userId": "05574385187242124520"
     },
     "user_tz": -120
    },
    "id": "zpkMa5nAJHMO",
    "outputId": "01dcff1e-4ad1-4f38-d215-c1bbfe49649b"
   },
   "outputs": [
    {
     "name": "stdout",
     "output_type": "stream",
     "text": [
      "tensor([[4.5000, 4.5000],\n",
      "        [4.5000, 4.5000]])\n"
     ]
    }
   ],
   "source": [
    "print(x.grad)"
   ]
  },
  {
   "cell_type": "markdown",
   "metadata": {
    "colab_type": "text",
    "id": "pMbEChvWJHMS"
   },
   "source": [
    "For such a small computation graph the solution can easily be verified:\n",
    "\n",
    "The output w.r.t. the input is given as \n",
    "$$\n",
    "\\begin{align}\n",
    "    out =& \\frac{1}{4}\\sum_i z_i \\\\\n",
    "        =& \\frac{1}{4}\\sum_i 3y_i y_i \\\\\n",
    "        =& \\frac{1}{4}\\sum_i 3(x_i+2)^2\n",
    "\\end{align}\n",
    "$$.\n",
    "\n",
    "Therefore the gradient is $\\frac{\\partial out}{\\partial x_i} = \\frac{3}{2}(x_i+2)$, which yields\n",
    "$\\frac{\\partial out}{\\partial x_i}\\bigr\\rvert_{x_i=1} = \\frac{9}{2} = 4.5$ for a particular input $x_i=1$.\n",
    "\n"
   ]
  },
  {
   "cell_type": "markdown",
   "metadata": {
    "colab_type": "text",
    "id": "pDL-JBQhJHMX"
   },
   "source": [
    "The `autograd` package in combination with the dynamic graph structure allow to do crazy things such as:\n",
    "\n"
   ]
  },
  {
   "cell_type": "code",
   "execution_count": 0,
   "metadata": {
    "colab": {
     "base_uri": "https://localhost:8080/",
     "height": 34
    },
    "colab_type": "code",
    "executionInfo": {
     "elapsed": 580,
     "status": "ok",
     "timestamp": 1562516784295,
     "user": {
      "displayName": "MADHAN R",
      "photoUrl": "https://lh4.googleusercontent.com/-mWzTthe7iNg/AAAAAAAAAAI/AAAAAAAAC2U/TXibL5IJ0ho/s64/photo.jpg",
      "userId": "05574385187242124520"
     },
     "user_tz": -120
    },
    "id": "uj50FKDfJHMY",
    "outputId": "0251ff8d-20e6-4618-bae6-4cbe416f9ba5"
   },
   "outputs": [
    {
     "name": "stdout",
     "output_type": "stream",
     "text": [
      "tensor([ 1174.8257,  -880.5735, -1123.5367], grad_fn=<MulBackward0>)\n"
     ]
    }
   ],
   "source": [
    "x = torch.randn(3, requires_grad=True)\n",
    "\n",
    "y = x * 2\n",
    "while y.norm() < 1000:\n",
    "    y = y * 2\n",
    "\n",
    "print(y)"
   ]
  },
  {
   "cell_type": "markdown",
   "metadata": {
    "colab_type": "text",
    "id": "bIsgfJ86JHMb"
   },
   "source": [
    "\n",
    "Neural Networks\n",
    "===============\n",
    "\n",
    "The `Tensor` class in combination with the `autograd` package build the foundation for constructing Neural Networks (NNs) with PyTorch. To further fascilitate the construction and training of a NN the ``torch.nn`` package, which depends on `autograd` to define NN models and differentiate them, includes additional NN-specifc classes and helper functions.\n",
    "\n",
    "For example the ``nn.Module`` class which works as a boilerplate NN model class and eventually contains all the individual layers and the ``Module.forward(x)`` method that infers the input ``x`` and returns the output of a NN.\n",
    "\n",
    "The following is a grapical illustration of the infamous *LeNet* NN from Yann LeCun. This NN was trained to classify the MNIST dataset of handwritten digit images:\n",
    "\n",
    "It is a simple feed-forward network which takes the input, feeds it through several layers one after the other, and then finally produces the classification output.\n",
    "\n",
    "\n",
    "Define *LeNet* with PyTorch\n",
    "--------------------------\n",
    "\n",
    "The following is an example implementation of the classification network above: \n",
    "\n"
   ]
  },
  {
   "cell_type": "code",
   "execution_count": 0,
   "metadata": {
    "colab": {
     "base_uri": "https://localhost:8080/",
     "height": 136
    },
    "colab_type": "code",
    "executionInfo": {
     "elapsed": 938,
     "status": "ok",
     "timestamp": 1562517340383,
     "user": {
      "displayName": "MADHAN R",
      "photoUrl": "https://lh4.googleusercontent.com/-mWzTthe7iNg/AAAAAAAAAAI/AAAAAAAAC2U/TXibL5IJ0ho/s64/photo.jpg",
      "userId": "05574385187242124520"
     },
     "user_tz": -120
    },
    "id": "TNpqRNdzJHMd",
    "outputId": "f2bed5ab-d486-47df-c6c8-21b5ab0abefd"
   },
   "outputs": [
    {
     "name": "stdout",
     "output_type": "stream",
     "text": [
      "LeNet(\n",
      "  (conv1): Conv2d(1, 6, kernel_size=(5, 5), stride=(1, 1))\n",
      "  (conv2): Conv2d(6, 16, kernel_size=(5, 5), stride=(1, 1))\n",
      "  (fc1): Linear(in_features=400, out_features=120, bias=True)\n",
      "  (fc2): Linear(in_features=120, out_features=84, bias=True)\n",
      "  (fc3): Linear(in_features=84, out_features=10, bias=True)\n",
      ")\n"
     ]
    }
   ],
   "source": [
    "import torch\n",
    "from torch.autograd import Variable\n",
    "import torch.nn as nn\n",
    "import torch.nn.functional as F\n",
    "\n",
    "\n",
    "class LeNet(nn.Module):\n",
    "\n",
    "    def __init__(self):\n",
    "        \"\"\"\n",
    "        Class constructor which preinitializes NN layers with trainable\n",
    "        parameters.\n",
    "        \"\"\"\n",
    "        super(LeNet, self).__init__()\n",
    "        # 1 input image channel, 6 output channels, 5x5 square convolution\n",
    "        # conv kernel\n",
    "        self.conv1 = nn.Conv2d(1, 6, 5)\n",
    "        self.conv2 = nn.Conv2d(6, 16, 5)\n",
    "        # an affine operation: y = Wx + b\n",
    "        self.fc1 = nn.Linear(16 * 5 * 5, 120)\n",
    "        self.fc2 = nn.Linear(120, 84)\n",
    "        self.fc3 = nn.Linear(84, 10)\n",
    "\n",
    "    def forward(self, x):\n",
    "        \"\"\"\n",
    "        Forwards the input x through each of the NN layers and outputs the result.\n",
    "        \"\"\"\n",
    "        # Max pooling over a (2, 2) window\n",
    "        x = F.max_pool2d(F.relu(self.conv1(x)), (2, 2))\n",
    "        # If the size is a square you can only specify a single number\n",
    "        x = F.max_pool2d(F.relu(self.conv2(x)), 2)\n",
    "        # An efficient transition from spatial conv layers to flat 1D fully \n",
    "        # connected layers is achieved by only changing the \"view\" on the\n",
    "        # underlying data and memory structure.\n",
    "        x = x.view(-1, self.num_flat_features(x))\n",
    "        x = F.relu(self.fc1(x))\n",
    "        x = F.relu(self.fc2(x))\n",
    "        x = self.fc3(x)\n",
    "        return x\n",
    "\n",
    "    def num_flat_features(self, x):\n",
    "        \"\"\"\n",
    "        Computes the number of features if the spatial input x is transformed\n",
    "        to a 1D flat input.\n",
    "        \"\"\"\n",
    "        size = x.size()[1:]  # all dimensions except the batch dimension\n",
    "        num_features = 1\n",
    "        for s in size:\n",
    "            num_features *= s\n",
    "        return num_features\n",
    "\n",
    "\n",
    "net = LeNet()\n",
    "print(net)"
   ]
  },
  {
   "cell_type": "markdown",
   "metadata": {
    "colab_type": "text",
    "id": "MWyYiGTbJHMj"
   },
   "source": [
    "Due to the `autograd` package a NN merely requires the definition of the ``Module.forward()`` method. The ``.backward()`` function (which backpropagtes the gradients) is automatically defined. Any `Tensor` operation is allowed in the ``forward`` function.\n",
    "\n",
    "The learnable parameters of a model are returned by ``Module.parameters()``:\n",
    "\n"
   ]
  },
  {
   "cell_type": "code",
   "execution_count": 0,
   "metadata": {
    "colab": {
     "base_uri": "https://localhost:8080/",
     "height": 51
    },
    "colab_type": "code",
    "executionInfo": {
     "elapsed": 909,
     "status": "ok",
     "timestamp": 1562517446221,
     "user": {
      "displayName": "MADHAN R",
      "photoUrl": "https://lh4.googleusercontent.com/-mWzTthe7iNg/AAAAAAAAAAI/AAAAAAAAC2U/TXibL5IJ0ho/s64/photo.jpg",
      "userId": "05574385187242124520"
     },
     "user_tz": -120
    },
    "id": "9COyeSBeJHMl",
    "outputId": "a400bce3-7b13-4be4-d47c-a14462d72ccc"
   },
   "outputs": [
    {
     "name": "stdout",
     "output_type": "stream",
     "text": [
      "10\n",
      "torch.Size([6, 1, 5, 5])\n"
     ]
    }
   ],
   "source": [
    "params = list(net.parameters())\n",
    "print(len(params))\n",
    "print(params[0].size())  # conv1's .weight"
   ]
  },
  {
   "cell_type": "markdown",
   "metadata": {
    "colab_type": "text",
    "id": "5R8uoVX-JHMo"
   },
   "source": [
    "Check input and output"
   ]
  },
  {
   "cell_type": "code",
   "execution_count": 0,
   "metadata": {
    "colab": {
     "base_uri": "https://localhost:8080/",
     "height": 51
    },
    "colab_type": "code",
    "executionInfo": {
     "elapsed": 876,
     "status": "ok",
     "timestamp": 1562517510496,
     "user": {
      "displayName": "MADHAN R",
      "photoUrl": "https://lh4.googleusercontent.com/-mWzTthe7iNg/AAAAAAAAAAI/AAAAAAAAC2U/TXibL5IJ0ho/s64/photo.jpg",
      "userId": "05574385187242124520"
     },
     "user_tz": -120
    },
    "id": "IRuzjHtuJHMp",
    "outputId": "4d6c1d5b-928b-4fe5-96ba-18ab030a713f"
   },
   "outputs": [
    {
     "name": "stdout",
     "output_type": "stream",
     "text": [
      "tensor([[-0.1230,  0.0965, -0.0043, -0.0211, -0.1495, -0.0681, -0.0928,  0.0696,\n",
      "         -0.0102, -0.0933]], grad_fn=<AddmmBackward>)\n"
     ]
    }
   ],
   "source": [
    "x = torch.randn((1, 1, 32, 32))\n",
    "output = net(x)\n",
    "print(output)"
   ]
  },
  {
   "cell_type": "markdown",
   "metadata": {
    "colab_type": "text",
    "id": "Mw_HtylVJHMs"
   },
   "source": [
    "Before backpropagating for example a random gradient, the gradient buffers of all parameters should be set to zero:\n",
    "\n"
   ]
  },
  {
   "cell_type": "code",
   "execution_count": 0,
   "metadata": {
    "colab": {},
    "colab_type": "code",
    "id": "p-8Eb8fXJHMt"
   },
   "outputs": [],
   "source": [
    "net.zero_grad()\n",
    "output.backward(torch.randn(1, 10))"
   ]
  },
  {
   "cell_type": "markdown",
   "metadata": {
    "colab_type": "text",
    "id": "MZxyPes0JHMw"
   },
   "source": [
    "<div class=\"alert alert-info\">\n",
    "    <h3>Note</h3>\n",
    "    <p>Calling the <code>Tensor.backward()</code> method a second time before new inputs are forwarded will through an error. This is due to PyTorch deleting all the intermediary results in order to reduce memory consumption. Calling the <code>.backward()</code> method with the <code>retain_graph=True</code> argument keeps those results.\n",
    "    </p>\n",
    "</div>\n",
    "\n",
    "<div class=\"alert alert-info\">\n",
    "    <h3>Note</h3>\n",
    "    <p>The entire <code>torch.nn</code> package only supports inputs that are a mini-batch of samples, and not a single sample. For example, <code>nn.Conv2d</code> will take in a 4D Tensor of <code>nSamples x nChannels x Height x Width</code>. If you have a single sample, just use <code>x.unsqueeze(0)</code> to add a fake batch dimension.\n",
    "    </p>\n",
    "</div>\n",
    "\n",
    "Loss Function\n",
    "-------------\n",
    "A loss function takes the (output, target) pair as inputs, and computes a value that estimates \"how far away\" the output is from the target.\n",
    "\n",
    "There are several different loss functions predefined under the `torch.nn` package. An example of a simple loss is the ``nn.MSELoss`` which computes the mean-squared error between the input and the target value.\n",
    "\n",
    "More examples of predefined losses are documented [here](http://pytorch.org/docs/nn.html#loss-functions).\n",
    "\n",
    "A MSE loss example:"
   ]
  },
  {
   "cell_type": "code",
   "execution_count": 0,
   "metadata": {
    "colab": {
     "base_uri": "https://localhost:8080/",
     "height": 34
    },
    "colab_type": "code",
    "executionInfo": {
     "elapsed": 966,
     "status": "ok",
     "timestamp": 1562517628925,
     "user": {
      "displayName": "MADHAN R",
      "photoUrl": "https://lh4.googleusercontent.com/-mWzTthe7iNg/AAAAAAAAAAI/AAAAAAAAC2U/TXibL5IJ0ho/s64/photo.jpg",
      "userId": "05574385187242124520"
     },
     "user_tz": -120
    },
    "id": "w64oErnTJHMx",
    "outputId": "1bc7d6d4-561c-404c-ebc7-7f3a8bef6dd8"
   },
   "outputs": [
    {
     "name": "stdout",
     "output_type": "stream",
     "text": [
      "tensor(38.9676, grad_fn=<MseLossBackward>)\n"
     ]
    }
   ],
   "source": [
    "output = net(x)\n",
    "target = torch.arange(1, 11).unsqueeze(0).float()  # a dummy target with 10 classes\n",
    "criterion = nn.MSELoss()\n",
    "\n",
    "loss = criterion(output, target)\n",
    "print(loss)"
   ]
  },
  {
   "cell_type": "markdown",
   "metadata": {
    "colab_type": "text",
    "id": "1Okfs8rNJHM3"
   },
   "source": [
    "When ``loss.backward()`` is called, the whole graph is differentiated w.r.t. the loss, and all Tensors with gradients in the graph will have their ``Tensor.grad`` attribute accumulated with the gradient."
   ]
  },
  {
   "cell_type": "markdown",
   "metadata": {
    "colab_type": "text",
    "id": "YLiyhh3sJHM4"
   },
   "source": [
    "Backpropagate the Loss\n",
    "--------------------\n",
    "\n",
    "A curical step for optimizing the network weights is the backpropogation of the loss. The nature of a computational graph makes this as easy as calling ``loss.backward()``. But since the gradients will be accumulated to already existing gradients one has to clear them first."
   ]
  },
  {
   "cell_type": "code",
   "execution_count": 0,
   "metadata": {
    "colab": {},
    "colab_type": "code",
    "id": "3VSlvUyVJHM7"
   },
   "outputs": [],
   "source": [
    "net.zero_grad()     # zeroes the gradient buffers of all parameters\n",
    "\n",
    "print('conv1.bias.grad before backward')\n",
    "print(net.conv1.bias.grad)\n",
    "\n",
    "loss.backward()\n",
    "\n",
    "print('conv1.bias.grad after backward')\n",
    "print(net.conv1.bias.grad)"
   ]
  },
  {
   "cell_type": "markdown",
   "metadata": {
    "colab_type": "text",
    "id": "Mzkhg5D-JHNB"
   },
   "source": [
    "Weights Optimization\n",
    "------------------\n",
    "The simplest update rule used in practice for optimizing the weights of a NN is the Stochastic Gradient Descent (SGD):\n",
    "\n",
    "``weight = weight - learning_rate * gradient``\n",
    "\n",
    "Like any other NN component the optimization step can be implemented with the basic PyTorch classes.\n",
    "\n",
    "For example:"
   ]
  },
  {
   "cell_type": "code",
   "execution_count": 0,
   "metadata": {
    "colab": {},
    "colab_type": "code",
    "id": "Y7dwv3VQJHNC"
   },
   "outputs": [],
   "source": [
    "def sgd_step(net):\n",
    "    learning_rate = 0.01\n",
    "    for f in net.parameters():\n",
    "        f.data.sub_(f.grad.data * learning_rate)"
   ]
  },
  {
   "cell_type": "markdown",
   "metadata": {
    "colab_type": "text",
    "id": "1IhMYh2oJHNG"
   },
   "source": [
    "However, the PyTorch framework contains a small optimization package called ``torch.optim``. It includes various predefined update rules such as SGD, Nesterov-SGD, Adam, RMSProp, etc.\n",
    "\n",
    "<div class=\"alert alert-info\">\n",
    "    <h3>Note</h3>\n",
    "    <p>Common optimization options such as the L2-regularization (see <code>weight_decay</code> argument) are already included in the predefined optimization schemes.</p>\n",
    "</div>\n",
    "\n",
    "Using it is very simple:"
   ]
  },
  {
   "cell_type": "code",
   "execution_count": 0,
   "metadata": {
    "colab": {},
    "colab_type": "code",
    "id": "cxC_TMCkJHNH"
   },
   "outputs": [],
   "source": [
    "import torch.optim as optim\n",
    "\n",
    "# create an optimizer\n",
    "optimizer = optim.SGD(net.parameters(), lr=0.01, weight_decay=1e-3)\n",
    "\n",
    "# a single step of an example training loop\n",
    "optimizer.zero_grad()   # zero the gradient buffers\n",
    "output = net(x)\n",
    "loss = criterion(output, target)\n",
    "loss.backward()\n",
    "optimizer.step()    # Does the update based on the accumalted gradients"
   ]
  },
  {
   "cell_type": "markdown",
   "metadata": {
    "colab_type": "text",
    "id": "yT49Gs4XJHNM"
   },
   "source": [
    "Recap\n",
    "==============\n",
    "\n",
    "  -  ``torch.Tensor`` - A multi-dimensional array with a `requires_grad` option to record the history of operations applied to it.\n",
    "  -  ``nn.Module`` - Neural network module. Convenient way of\n",
    "     encapsulating parameters, with helpers for moving them to GPU,\n",
    "     exporting, loading, etc.\n",
    "  -  ``nn.Parameter`` - A kind of `Tensor`, that is automatically\n",
    "     registered as a parameter when assigned as an attribute to a\n",
    "     ``Module``.\n",
    "  -  ``autograd.Function`` - Implements forward and backward definitions\n",
    "     of an autograd operation. Every ``Tensor`` operation that requires gradients, creates at\n",
    "     least a single ``Function`` node, that connects to functions that\n",
    "     created a ``Tensor`` and encodes its history.\n",
    "\n",
    "<div class=\"alert alert-info\">\n",
    "    <h3>Note</h3>\n",
    "    <p>The `torchvision` package includes many predefined helper funcitons specifally designed for solving computer vision problems.</p>\n",
    "</div>"
   ]
  }
 ],
 "metadata": {
  "accelerator": "GPU",
  "colab": {
   "name": "pytorch_introduction.ipynb",
   "provenance": [],
   "version": "0.3.2"
  },
  "kernelspec": {
   "display_name": "Python 3",
   "language": "python",
   "name": "python3"
  },
  "language_info": {
   "codemirror_mode": {
    "name": "ipython",
    "version": 3
   },
   "file_extension": ".py",
   "mimetype": "text/x-python",
   "name": "python",
   "nbconvert_exporter": "python",
   "pygments_lexer": "ipython3",
   "version": "3.9.1"
  }
 },
 "nbformat": 4,
 "nbformat_minor": 1
}
